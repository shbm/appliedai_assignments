{
 "cells": [
  {
   "cell_type": "code",
   "execution_count": 1,
   "metadata": {
    "ExecuteTime": {
     "end_time": "2019-02-27T08:43:47.210473Z",
     "start_time": "2019-02-27T08:43:36.098743Z"
    }
   },
   "outputs": [
    {
     "name": "stdout",
     "output_type": "stream",
     "text": [
      "Automatically created module for IPython interactive environment\n"
     ]
    }
   ],
   "source": [
    "from __future__ import print_function\n",
    "\n",
    "from sklearn import datasets\n",
    "from sklearn.model_selection import train_test_split\n",
    "from sklearn.model_selection import GridSearchCV\n",
    "from sklearn.metrics import classification_report\n",
    "from sklearn.svm import SVC\n",
    "\n",
    "print(__doc__)\n",
    "\n",
    "# Loading the Digits dataset\n",
    "digits = datasets.load_digits()\n",
    "\n",
    "# To apply an classifier on this data, we need to flatten the image, to\n",
    "# turn the data in a (samples, feature) matrix:\n",
    "n_samples = len(digits.images)\n",
    "X = digits.images.reshape((n_samples, -1))\n",
    "y = digits.target\n",
    "\n",
    "# Split the dataset in two equal parts\n",
    "X_train, X_test, y_train, y_test = train_test_split(\n",
    "    X, y, test_size=0.5, random_state=0)\n",
    "\n"
   ]
  },
  {
   "cell_type": "code",
   "execution_count": 3,
   "metadata": {
    "ExecuteTime": {
     "end_time": "2019-02-27T08:44:34.590073Z",
     "start_time": "2019-02-27T08:44:34.586073Z"
    }
   },
   "outputs": [],
   "source": [
    "\n",
    "# Set the parameters by cross-validation\n",
    "tuned_parameters = [{'kernel': ['rbf'], 'gamma': [1e-3, 1e-4],\n",
    "                     'C': [1, 10, 100, 1000]},\n",
    "                    {'kernel': ['linear'], 'C': [1, 10, 100, 1000]}]\n",
    "\n",
    "scores = ['precision', 'recall']\n",
    "\n"
   ]
  },
  {
   "cell_type": "code",
   "execution_count": 6,
   "metadata": {
    "ExecuteTime": {
     "end_time": "2019-02-27T08:45:36.796554Z",
     "start_time": "2019-02-27T08:45:33.652554Z"
    }
   },
   "outputs": [
    {
     "name": "stdout",
     "output_type": "stream",
     "text": [
      "# Tuning hyper-parameters for precision\n",
      "\n",
      "Best parameters set found on development set:\n",
      "\n",
      "{'C': 10, 'gamma': 0.001, 'kernel': 'rbf'}\n",
      "\n",
      "Grid scores on development set:\n",
      "\n",
      "0.986 (+/-0.016) for {'C': 1, 'gamma': 0.001, 'kernel': 'rbf'}\n",
      "0.959 (+/-0.029) for {'C': 1, 'gamma': 0.0001, 'kernel': 'rbf'}\n",
      "0.988 (+/-0.017) for {'C': 10, 'gamma': 0.001, 'kernel': 'rbf'}\n",
      "0.982 (+/-0.026) for {'C': 10, 'gamma': 0.0001, 'kernel': 'rbf'}\n",
      "0.988 (+/-0.017) for {'C': 100, 'gamma': 0.001, 'kernel': 'rbf'}\n",
      "0.982 (+/-0.025) for {'C': 100, 'gamma': 0.0001, 'kernel': 'rbf'}\n",
      "0.988 (+/-0.017) for {'C': 1000, 'gamma': 0.001, 'kernel': 'rbf'}\n",
      "0.982 (+/-0.025) for {'C': 1000, 'gamma': 0.0001, 'kernel': 'rbf'}\n",
      "0.975 (+/-0.014) for {'C': 1, 'kernel': 'linear'}\n",
      "0.975 (+/-0.014) for {'C': 10, 'kernel': 'linear'}\n",
      "0.975 (+/-0.014) for {'C': 100, 'kernel': 'linear'}\n",
      "0.975 (+/-0.014) for {'C': 1000, 'kernel': 'linear'}\n",
      "\n",
      "Detailed classification report:\n",
      "\n",
      "The model is trained on the full development set.\n",
      "The scores are computed on the full evaluation set.\n",
      "\n",
      "              precision    recall  f1-score   support\n",
      "\n",
      "           0       1.00      1.00      1.00        89\n",
      "           1       0.97      1.00      0.98        90\n",
      "           2       0.99      0.98      0.98        92\n",
      "           3       1.00      0.99      0.99        93\n",
      "           4       1.00      1.00      1.00        76\n",
      "           5       0.99      0.98      0.99       108\n",
      "           6       0.99      1.00      0.99        89\n",
      "           7       0.99      1.00      0.99        78\n",
      "           8       1.00      0.98      0.99        92\n",
      "           9       0.99      0.99      0.99        92\n",
      "\n",
      "   micro avg       0.99      0.99      0.99       899\n",
      "   macro avg       0.99      0.99      0.99       899\n",
      "weighted avg       0.99      0.99      0.99       899\n",
      "\n",
      "\n"
     ]
    }
   ],
   "source": [
    "print(\"# Tuning hyper-parameters for %s\" % \"precision\")\n",
    "print()\n",
    "\n",
    "clf = GridSearchCV(SVC(), tuned_parameters, cv=5,\n",
    "                   scoring='%s_macro' % \"precision\")\n",
    "clf.fit(X_train, y_train)\n",
    "\n",
    "print(\"Best parameters set found on development set:\")\n",
    "print()\n",
    "print(clf.best_params_)\n",
    "print()\n",
    "print(\"Grid scores on development set:\")\n",
    "print()\n",
    "means = clf.cv_results_['mean_test_score']\n",
    "stds = clf.cv_results_['std_test_score']\n",
    "for mean, std, params in zip(means, stds, clf.cv_results_['params']):\n",
    "    print(\"%0.3f (+/-%0.03f) for %r\"\n",
    "          % (mean, std * 2, params))\n",
    "print()\n",
    "\n",
    "print(\"Detailed classification report:\")\n",
    "print()\n",
    "print(\"The model is trained on the full development set.\")\n",
    "print(\"The scores are computed on the full evaluation set.\")\n",
    "print()\n",
    "y_true, y_pred = y_test, clf.predict(X_test)\n",
    "print(classification_report(y_true, y_pred))\n",
    "print()"
   ]
  },
  {
   "cell_type": "code",
   "execution_count": 7,
   "metadata": {
    "ExecuteTime": {
     "end_time": "2019-02-27T08:46:28.951833Z",
     "start_time": "2019-02-27T08:46:28.943861Z"
    }
   },
   "outputs": [
    {
     "data": {
      "text/plain": [
       "{'C': 10, 'gamma': 0.001, 'kernel': 'rbf'}"
      ]
     },
     "execution_count": 7,
     "metadata": {},
     "output_type": "execute_result"
    }
   ],
   "source": [
    "clf.best_params_"
   ]
  },
  {
   "cell_type": "code",
   "execution_count": 8,
   "metadata": {
    "ExecuteTime": {
     "end_time": "2019-02-27T08:46:40.279142Z",
     "start_time": "2019-02-27T08:46:40.271100Z"
    }
   },
   "outputs": [
    {
     "data": {
      "text/plain": [
       "[{'C': 1, 'gamma': 0.001, 'kernel': 'rbf'},\n",
       " {'C': 1, 'gamma': 0.0001, 'kernel': 'rbf'},\n",
       " {'C': 10, 'gamma': 0.001, 'kernel': 'rbf'},\n",
       " {'C': 10, 'gamma': 0.0001, 'kernel': 'rbf'},\n",
       " {'C': 100, 'gamma': 0.001, 'kernel': 'rbf'},\n",
       " {'C': 100, 'gamma': 0.0001, 'kernel': 'rbf'},\n",
       " {'C': 1000, 'gamma': 0.001, 'kernel': 'rbf'},\n",
       " {'C': 1000, 'gamma': 0.0001, 'kernel': 'rbf'},\n",
       " {'C': 1, 'kernel': 'linear'},\n",
       " {'C': 10, 'kernel': 'linear'},\n",
       " {'C': 100, 'kernel': 'linear'},\n",
       " {'C': 1000, 'kernel': 'linear'}]"
      ]
     },
     "execution_count": 8,
     "metadata": {},
     "output_type": "execute_result"
    }
   ],
   "source": [
    "clf.cv_results_['params']"
   ]
  },
  {
   "cell_type": "code",
   "execution_count": 12,
   "metadata": {
    "ExecuteTime": {
     "end_time": "2019-02-27T08:48:42.397132Z",
     "start_time": "2019-02-27T08:48:42.389132Z"
    }
   },
   "outputs": [
    {
     "data": {
      "text/plain": [
       "{'mean_fit_time': array([0.03660412, 0.03060174, 0.03558946, 0.01899443, 0.03640122,\n",
       "        0.01838923, 0.03620763, 0.01760478, 0.0131999 , 0.01280017,\n",
       "        0.01280107, 0.01239791]),\n",
       " 'std_fit_time': array([1.85207063e-03, 4.86492208e-04, 5.14029660e-04, 1.49962064e-05,\n",
       "        1.95973158e-03, 4.97157816e-04, 3.97399000e-04, 4.93320556e-04,\n",
       "        4.01569782e-04, 3.99685560e-04, 3.98946104e-04, 4.92228159e-04]),\n",
       " 'mean_score_time': array([0.00739689, 0.00839047, 0.00700312, 0.0054049 , 0.0076045 ,\n",
       "        0.00540013, 0.00680618, 0.00579491, 0.00359926, 0.00360026,\n",
       "        0.00399952, 0.00400276]),\n",
       " 'std_score_time': array([5.05864929e-04, 4.83823767e-04, 4.41016374e-06, 4.85702860e-04,\n",
       "        4.95449792e-04, 4.91480836e-04, 4.05065810e-04, 4.09797599e-04,\n",
       "        4.90061293e-04, 4.88929174e-04, 1.53331139e-06, 6.35388106e-04]),\n",
       " 'param_C': masked_array(data=[1, 1, 10, 10, 100, 100, 1000, 1000, 1, 10, 100, 1000],\n",
       "              mask=[False, False, False, False, False, False, False, False,\n",
       "                    False, False, False, False],\n",
       "        fill_value='?',\n",
       "             dtype=object),\n",
       " 'param_gamma': masked_array(data=[0.001, 0.0001, 0.001, 0.0001, 0.001, 0.0001, 0.001,\n",
       "                    0.0001, --, --, --, --],\n",
       "              mask=[False, False, False, False, False, False, False, False,\n",
       "                     True,  True,  True,  True],\n",
       "        fill_value='?',\n",
       "             dtype=object),\n",
       " 'param_kernel': masked_array(data=['rbf', 'rbf', 'rbf', 'rbf', 'rbf', 'rbf', 'rbf', 'rbf',\n",
       "                    'linear', 'linear', 'linear', 'linear'],\n",
       "              mask=[False, False, False, False, False, False, False, False,\n",
       "                    False, False, False, False],\n",
       "        fill_value='?',\n",
       "             dtype=object),\n",
       " 'params': [{'C': 1, 'gamma': 0.001, 'kernel': 'rbf'},\n",
       "  {'C': 1, 'gamma': 0.0001, 'kernel': 'rbf'},\n",
       "  {'C': 10, 'gamma': 0.001, 'kernel': 'rbf'},\n",
       "  {'C': 10, 'gamma': 0.0001, 'kernel': 'rbf'},\n",
       "  {'C': 100, 'gamma': 0.001, 'kernel': 'rbf'},\n",
       "  {'C': 100, 'gamma': 0.0001, 'kernel': 'rbf'},\n",
       "  {'C': 1000, 'gamma': 0.001, 'kernel': 'rbf'},\n",
       "  {'C': 1000, 'gamma': 0.0001, 'kernel': 'rbf'},\n",
       "  {'C': 1, 'kernel': 'linear'},\n",
       "  {'C': 10, 'kernel': 'linear'},\n",
       "  {'C': 100, 'kernel': 'linear'},\n",
       "  {'C': 1000, 'kernel': 'linear'}],\n",
       " 'split0_test_score': array([0.99444444, 0.97888889, 0.99444444, 0.995     , 0.99444444,\n",
       "        0.98973684, 0.99444444, 0.98973684, 0.97466507, 0.97466507,\n",
       "        0.97466507, 0.97466507]),\n",
       " 'split1_test_score': array([0.98918129, 0.96266563, 0.98918129, 0.97800654, 0.98918129,\n",
       "        0.985     , 0.98918129, 0.985     , 0.97963583, 0.97963583,\n",
       "        0.97963583, 0.97963583]),\n",
       " 'split2_test_score': array([0.97208333, 0.94875   , 0.97208333, 0.96652778, 0.97208333,\n",
       "        0.95798726, 0.97208333, 0.95798726, 0.96266563, 0.96266563,\n",
       "        0.96266563, 0.96266563]),\n",
       " 'split3_test_score': array([0.98260449, 0.93701678, 0.98989899, 0.97242934, 0.98989899,\n",
       "        0.98492823, 0.98989899, 0.98492823, 0.97341507, 0.97341507,\n",
       "        0.97341507, 0.97341507]),\n",
       " 'split4_test_score': array([0.99333333, 0.96825397, 0.99473684, 1.        , 0.99473684,\n",
       "        0.99411765, 0.99473684, 0.99411765, 0.98267974, 0.98267974,\n",
       "        0.98267974, 0.98267974]),\n",
       " 'mean_test_score': array([0.9863558 , 0.95920907, 0.98807678, 0.98238651, 0.98807678,\n",
       "        0.98235356, 0.98807678, 0.98235356, 0.97460367, 0.97460367,\n",
       "        0.97460367, 0.97460367]),\n",
       " 'std_test_score': array([0.00823935, 0.01472441, 0.00829753, 0.0129189 , 0.00829753,\n",
       "        0.01262192, 0.00829753, 0.01262192, 0.00682673, 0.00682673,\n",
       "        0.00682673, 0.00682673]),\n",
       " 'rank_test_score': array([ 4, 12,  1,  5,  1,  6,  1,  6,  8,  8,  8,  8]),\n",
       " 'split0_train_score': array([0.99863014, 0.96575361, 1.        , 0.99863014, 1.        ,\n",
       "        1.        , 1.        , 1.        , 1.        , 1.        ,\n",
       "        1.        , 1.        ]),\n",
       " 'split1_train_score': array([1.        , 0.96380048, 1.        , 0.99711019, 1.        ,\n",
       "        1.        , 1.        , 1.        , 1.        , 1.        ,\n",
       "        1.        , 1.        ]),\n",
       " 'split2_train_score': array([0.99863014, 0.96526981, 1.        , 0.9972968 , 1.        ,\n",
       "        1.        , 1.        , 1.        , 1.        , 1.        ,\n",
       "        1.        , 1.        ]),\n",
       " 'split3_train_score': array([0.99863014, 0.97827189, 1.        , 0.99863014, 1.        ,\n",
       "        1.        , 1.        , 1.        , 1.        , 1.        ,\n",
       "        1.        , 1.        ]),\n",
       " 'split4_train_score': array([0.99863014, 0.96902183, 1.        , 0.99863014, 1.        ,\n",
       "        1.        , 1.        , 1.        , 1.        , 1.        ,\n",
       "        1.        , 1.        ]),\n",
       " 'mean_train_score': array([0.99890411, 0.96842352, 1.        , 0.99805948, 1.        ,\n",
       "        1.        , 1.        , 1.        , 1.        , 1.        ,\n",
       "        1.        , 1.        ]),\n",
       " 'std_train_score': array([0.00054795, 0.00521143, 0.        , 0.0007014 , 0.        ,\n",
       "        0.        , 0.        , 0.        , 0.        , 0.        ,\n",
       "        0.        , 0.        ])}"
      ]
     },
     "execution_count": 12,
     "metadata": {},
     "output_type": "execute_result"
    }
   ],
   "source": [
    "clf.cv_results_"
   ]
  },
  {
   "cell_type": "code",
   "execution_count": null,
   "metadata": {},
   "outputs": [],
   "source": []
  }
 ],
 "metadata": {
  "kernelspec": {
   "display_name": "Python 3",
   "language": "python",
   "name": "python3"
  },
  "language_info": {
   "codemirror_mode": {
    "name": "ipython",
    "version": 3
   },
   "file_extension": ".py",
   "mimetype": "text/x-python",
   "name": "python",
   "nbconvert_exporter": "python",
   "pygments_lexer": "ipython3",
   "version": "3.7.1"
  }
 },
 "nbformat": 4,
 "nbformat_minor": 2
}
